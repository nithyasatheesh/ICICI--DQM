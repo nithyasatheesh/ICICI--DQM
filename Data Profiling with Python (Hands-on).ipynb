{
 "cells": [
  {
   "cell_type": "markdown",
   "id": "680298d4",
   "metadata": {},
   "source": [
    "pandas – for data handling\n",
    "\n",
    "pandas-profiling or ydata-profiling – for automated profiling\n",
    "\n",
    "missingno – for missing data visualization"
   ]
  },
  {
   "cell_type": "code",
   "execution_count": 7,
   "id": "8413c2a4",
   "metadata": {},
   "outputs": [],
   "source": [
    "import pandas as pd\n",
    "customer=pd.read_csv(\"customer_data.csv\")"
   ]
  },
  {
   "cell_type": "code",
   "execution_count": 8,
   "id": "23481101",
   "metadata": {},
   "outputs": [],
   "source": [
    "# pd.read_excel()\n",
    "# pd.read_table()\n",
    "#pd.read_json(\"D://Files//amsterdam.json\")\n",
    "#pd.read_xml()"
   ]
  },
  {
   "cell_type": "code",
   "execution_count": 9,
   "id": "4de1336a",
   "metadata": {},
   "outputs": [
    {
     "data": {
      "text/plain": [
       "(3000, 9)"
      ]
     },
     "execution_count": 9,
     "metadata": {},
     "output_type": "execute_result"
    }
   ],
   "source": [
    "customer.shape  # returns number of rows and columns"
   ]
  },
  {
   "cell_type": "code",
   "execution_count": 16,
   "id": "59e3196f",
   "metadata": {},
   "outputs": [
    {
     "data": {
      "text/plain": [
       "tuple"
      ]
     },
     "execution_count": 16,
     "metadata": {},
     "output_type": "execute_result"
    }
   ],
   "source": [
    "type(customer.shape)"
   ]
  },
  {
   "cell_type": "code",
   "execution_count": 17,
   "id": "9bdfa09d",
   "metadata": {},
   "outputs": [
    {
     "data": {
      "text/plain": [
       "3000"
      ]
     },
     "execution_count": 17,
     "metadata": {},
     "output_type": "execute_result"
    }
   ],
   "source": [
    "customer.shape[0]"
   ]
  },
  {
   "cell_type": "code",
   "execution_count": 1,
   "id": "e02369ed",
   "metadata": {},
   "outputs": [],
   "source": [
    "#pip install pandas ydata-profiling missingno openpyxl"
   ]
  },
  {
   "cell_type": "code",
   "execution_count": 11,
   "id": "f8877296",
   "metadata": {},
   "outputs": [
    {
     "name": "stdout",
     "output_type": "stream",
     "text": [
      "   PassengerId  Survived  Pclass  \\\n",
      "0            1         0       3   \n",
      "1            2         1       1   \n",
      "2            3         1       3   \n",
      "3            4         1       1   \n",
      "4            5         0       3   \n",
      "\n",
      "                                                Name     Sex   Age  SibSp  \\\n",
      "0                            Braund, Mr. Owen Harris    male  22.0      1   \n",
      "1  Cumings, Mrs. John Bradley (Florence Briggs Th...  female  38.0      1   \n",
      "2                             Heikkinen, Miss. Laina  female  26.0      0   \n",
      "3       Futrelle, Mrs. Jacques Heath (Lily May Peel)  female  35.0      1   \n",
      "4                           Allen, Mr. William Henry    male  35.0      0   \n",
      "\n",
      "   Parch            Ticket     Fare Cabin Embarked  \n",
      "0      0         A/5 21171   7.2500   NaN        S  \n",
      "1      0          PC 17599  71.2833   C85        C  \n",
      "2      0  STON/O2. 3101282   7.9250   NaN        S  \n",
      "3      0            113803  53.1000  C123        S  \n",
      "4      0            373450   8.0500   NaN        S  \n"
     ]
    }
   ],
   "source": [
    "#import pandas as pd\n",
    "from ydata_profiling import ProfileReport\n",
    "import missingno as msno\n",
    "\n",
    "# Load sample dataset\n",
    "df = pd.read_csv(\"https://raw.githubusercontent.com/datasciencedojo/datasets/master/titanic.csv\")\n",
    "\n",
    "# Display first few rows( bydefault- 5 rows)\n",
    "print(df.head())\n"
   ]
  },
  {
   "cell_type": "markdown",
   "id": "289cce30",
   "metadata": {},
   "source": [
    "✅ 1. Basic Profiling"
   ]
  },
  {
   "cell_type": "code",
   "execution_count": 3,
   "id": "9489d165",
   "metadata": {},
   "outputs": [
    {
     "name": "stdout",
     "output_type": "stream",
     "text": [
      "Data Types:\n",
      " PassengerId      int64\n",
      "Survived         int64\n",
      "Pclass           int64\n",
      "Name            object\n",
      "Sex             object\n",
      "Age            float64\n",
      "SibSp            int64\n",
      "Parch            int64\n",
      "Ticket          object\n",
      "Fare           float64\n",
      "Cabin           object\n",
      "Embarked        object\n",
      "dtype: object\n",
      "Missing Values:\n",
      " PassengerId      0\n",
      "Survived         0\n",
      "Pclass           0\n",
      "Name             0\n",
      "Sex              0\n",
      "Age            177\n",
      "SibSp            0\n",
      "Parch            0\n",
      "Ticket           0\n",
      "Fare             0\n",
      "Cabin          687\n",
      "Embarked         2\n",
      "dtype: int64\n",
      "Summary:\n",
      "         PassengerId    Survived      Pclass                     Name   Sex  \\\n",
      "count    891.000000  891.000000  891.000000                      891   891   \n",
      "unique          NaN         NaN         NaN                      891     2   \n",
      "top             NaN         NaN         NaN  Braund, Mr. Owen Harris  male   \n",
      "freq            NaN         NaN         NaN                        1   577   \n",
      "mean     446.000000    0.383838    2.308642                      NaN   NaN   \n",
      "std      257.353842    0.486592    0.836071                      NaN   NaN   \n",
      "min        1.000000    0.000000    1.000000                      NaN   NaN   \n",
      "25%      223.500000    0.000000    2.000000                      NaN   NaN   \n",
      "50%      446.000000    0.000000    3.000000                      NaN   NaN   \n",
      "75%      668.500000    1.000000    3.000000                      NaN   NaN   \n",
      "max      891.000000    1.000000    3.000000                      NaN   NaN   \n",
      "\n",
      "               Age       SibSp       Parch  Ticket        Fare    Cabin  \\\n",
      "count   714.000000  891.000000  891.000000     891  891.000000      204   \n",
      "unique         NaN         NaN         NaN     681         NaN      147   \n",
      "top            NaN         NaN         NaN  347082         NaN  B96 B98   \n",
      "freq           NaN         NaN         NaN       7         NaN        4   \n",
      "mean     29.699118    0.523008    0.381594     NaN   32.204208      NaN   \n",
      "std      14.526497    1.102743    0.806057     NaN   49.693429      NaN   \n",
      "min       0.420000    0.000000    0.000000     NaN    0.000000      NaN   \n",
      "25%      20.125000    0.000000    0.000000     NaN    7.910400      NaN   \n",
      "50%      28.000000    0.000000    0.000000     NaN   14.454200      NaN   \n",
      "75%      38.000000    1.000000    0.000000     NaN   31.000000      NaN   \n",
      "max      80.000000    8.000000    6.000000     NaN  512.329200      NaN   \n",
      "\n",
      "       Embarked  \n",
      "count       889  \n",
      "unique        3  \n",
      "top           S  \n",
      "freq        644  \n",
      "mean        NaN  \n",
      "std         NaN  \n",
      "min         NaN  \n",
      "25%         NaN  \n",
      "50%         NaN  \n",
      "75%         NaN  \n",
      "max         NaN  \n"
     ]
    }
   ],
   "source": [
    "print(\"Data Types:\\n\", df.dtypes)\n",
    "print(\"Missing Values:\\n\", df.isnull().sum())\n",
    "print(\"Summary:\\n\", df.describe(include='all'))"
   ]
  },
  {
   "cell_type": "code",
   "execution_count": 12,
   "id": "310e005b",
   "metadata": {},
   "outputs": [
    {
     "data": {
      "text/html": [
       "<div>\n",
       "<style scoped>\n",
       "    .dataframe tbody tr th:only-of-type {\n",
       "        vertical-align: middle;\n",
       "    }\n",
       "\n",
       "    .dataframe tbody tr th {\n",
       "        vertical-align: top;\n",
       "    }\n",
       "\n",
       "    .dataframe thead th {\n",
       "        text-align: right;\n",
       "    }\n",
       "</style>\n",
       "<table border=\"1\" class=\"dataframe\">\n",
       "  <thead>\n",
       "    <tr style=\"text-align: right;\">\n",
       "      <th></th>\n",
       "      <th>PassengerId</th>\n",
       "      <th>Survived</th>\n",
       "      <th>Pclass</th>\n",
       "      <th>Age</th>\n",
       "      <th>SibSp</th>\n",
       "      <th>Parch</th>\n",
       "      <th>Fare</th>\n",
       "    </tr>\n",
       "  </thead>\n",
       "  <tbody>\n",
       "    <tr>\n",
       "      <th>count</th>\n",
       "      <td>891.000000</td>\n",
       "      <td>891.000000</td>\n",
       "      <td>891.000000</td>\n",
       "      <td>714.000000</td>\n",
       "      <td>891.000000</td>\n",
       "      <td>891.000000</td>\n",
       "      <td>891.000000</td>\n",
       "    </tr>\n",
       "    <tr>\n",
       "      <th>mean</th>\n",
       "      <td>446.000000</td>\n",
       "      <td>0.383838</td>\n",
       "      <td>2.308642</td>\n",
       "      <td>29.699118</td>\n",
       "      <td>0.523008</td>\n",
       "      <td>0.381594</td>\n",
       "      <td>32.204208</td>\n",
       "    </tr>\n",
       "    <tr>\n",
       "      <th>std</th>\n",
       "      <td>257.353842</td>\n",
       "      <td>0.486592</td>\n",
       "      <td>0.836071</td>\n",
       "      <td>14.526497</td>\n",
       "      <td>1.102743</td>\n",
       "      <td>0.806057</td>\n",
       "      <td>49.693429</td>\n",
       "    </tr>\n",
       "    <tr>\n",
       "      <th>min</th>\n",
       "      <td>1.000000</td>\n",
       "      <td>0.000000</td>\n",
       "      <td>1.000000</td>\n",
       "      <td>0.420000</td>\n",
       "      <td>0.000000</td>\n",
       "      <td>0.000000</td>\n",
       "      <td>0.000000</td>\n",
       "    </tr>\n",
       "    <tr>\n",
       "      <th>25%</th>\n",
       "      <td>223.500000</td>\n",
       "      <td>0.000000</td>\n",
       "      <td>2.000000</td>\n",
       "      <td>20.125000</td>\n",
       "      <td>0.000000</td>\n",
       "      <td>0.000000</td>\n",
       "      <td>7.910400</td>\n",
       "    </tr>\n",
       "    <tr>\n",
       "      <th>50%</th>\n",
       "      <td>446.000000</td>\n",
       "      <td>0.000000</td>\n",
       "      <td>3.000000</td>\n",
       "      <td>28.000000</td>\n",
       "      <td>0.000000</td>\n",
       "      <td>0.000000</td>\n",
       "      <td>14.454200</td>\n",
       "    </tr>\n",
       "    <tr>\n",
       "      <th>75%</th>\n",
       "      <td>668.500000</td>\n",
       "      <td>1.000000</td>\n",
       "      <td>3.000000</td>\n",
       "      <td>38.000000</td>\n",
       "      <td>1.000000</td>\n",
       "      <td>0.000000</td>\n",
       "      <td>31.000000</td>\n",
       "    </tr>\n",
       "    <tr>\n",
       "      <th>max</th>\n",
       "      <td>891.000000</td>\n",
       "      <td>1.000000</td>\n",
       "      <td>3.000000</td>\n",
       "      <td>80.000000</td>\n",
       "      <td>8.000000</td>\n",
       "      <td>6.000000</td>\n",
       "      <td>512.329200</td>\n",
       "    </tr>\n",
       "  </tbody>\n",
       "</table>\n",
       "</div>"
      ],
      "text/plain": [
       "       PassengerId    Survived      Pclass         Age       SibSp  \\\n",
       "count   891.000000  891.000000  891.000000  714.000000  891.000000   \n",
       "mean    446.000000    0.383838    2.308642   29.699118    0.523008   \n",
       "std     257.353842    0.486592    0.836071   14.526497    1.102743   \n",
       "min       1.000000    0.000000    1.000000    0.420000    0.000000   \n",
       "25%     223.500000    0.000000    2.000000   20.125000    0.000000   \n",
       "50%     446.000000    0.000000    3.000000   28.000000    0.000000   \n",
       "75%     668.500000    1.000000    3.000000   38.000000    1.000000   \n",
       "max     891.000000    1.000000    3.000000   80.000000    8.000000   \n",
       "\n",
       "            Parch        Fare  \n",
       "count  891.000000  891.000000  \n",
       "mean     0.381594   32.204208  \n",
       "std      0.806057   49.693429  \n",
       "min      0.000000    0.000000  \n",
       "25%      0.000000    7.910400  \n",
       "50%      0.000000   14.454200  \n",
       "75%      0.000000   31.000000  \n",
       "max      6.000000  512.329200  "
      ]
     },
     "execution_count": 12,
     "metadata": {},
     "output_type": "execute_result"
    }
   ],
   "source": [
    "df.describe()"
   ]
  },
  {
   "cell_type": "markdown",
   "id": "b13836aa",
   "metadata": {},
   "source": [
    "- Survived variable is positively skewed.\n",
    "\n"
   ]
  },
  {
   "cell_type": "code",
   "execution_count": 14,
   "id": "817cc45d",
   "metadata": {},
   "outputs": [
    {
     "data": {
      "text/html": [
       "<div>\n",
       "<style scoped>\n",
       "    .dataframe tbody tr th:only-of-type {\n",
       "        vertical-align: middle;\n",
       "    }\n",
       "\n",
       "    .dataframe tbody tr th {\n",
       "        vertical-align: top;\n",
       "    }\n",
       "\n",
       "    .dataframe thead th {\n",
       "        text-align: right;\n",
       "    }\n",
       "</style>\n",
       "<table border=\"1\" class=\"dataframe\">\n",
       "  <thead>\n",
       "    <tr style=\"text-align: right;\">\n",
       "      <th></th>\n",
       "      <th>Name</th>\n",
       "      <th>Sex</th>\n",
       "      <th>Ticket</th>\n",
       "      <th>Cabin</th>\n",
       "      <th>Embarked</th>\n",
       "    </tr>\n",
       "  </thead>\n",
       "  <tbody>\n",
       "    <tr>\n",
       "      <th>count</th>\n",
       "      <td>891</td>\n",
       "      <td>891</td>\n",
       "      <td>891</td>\n",
       "      <td>204</td>\n",
       "      <td>889</td>\n",
       "    </tr>\n",
       "    <tr>\n",
       "      <th>unique</th>\n",
       "      <td>891</td>\n",
       "      <td>2</td>\n",
       "      <td>681</td>\n",
       "      <td>147</td>\n",
       "      <td>3</td>\n",
       "    </tr>\n",
       "    <tr>\n",
       "      <th>top</th>\n",
       "      <td>Braund, Mr. Owen Harris</td>\n",
       "      <td>male</td>\n",
       "      <td>347082</td>\n",
       "      <td>B96 B98</td>\n",
       "      <td>S</td>\n",
       "    </tr>\n",
       "    <tr>\n",
       "      <th>freq</th>\n",
       "      <td>1</td>\n",
       "      <td>577</td>\n",
       "      <td>7</td>\n",
       "      <td>4</td>\n",
       "      <td>644</td>\n",
       "    </tr>\n",
       "  </tbody>\n",
       "</table>\n",
       "</div>"
      ],
      "text/plain": [
       "                           Name   Sex  Ticket    Cabin Embarked\n",
       "count                       891   891     891      204      889\n",
       "unique                      891     2     681      147        3\n",
       "top     Braund, Mr. Owen Harris  male  347082  B96 B98        S\n",
       "freq                          1   577       7        4      644"
      ]
     },
     "execution_count": 14,
     "metadata": {},
     "output_type": "execute_result"
    }
   ],
   "source": [
    "df.describe(include='O')"
   ]
  },
  {
   "cell_type": "code",
   "execution_count": 15,
   "id": "ad6e4ce6",
   "metadata": {
    "collapsed": true
   },
   "outputs": [
    {
     "data": {
      "text/plain": [
       "0      False\n",
       "1      False\n",
       "2      False\n",
       "3      False\n",
       "4      False\n",
       "       ...  \n",
       "886    False\n",
       "887    False\n",
       "888    False\n",
       "889    False\n",
       "890    False\n",
       "Length: 891, dtype: bool"
      ]
     },
     "execution_count": 15,
     "metadata": {},
     "output_type": "execute_result"
    }
   ],
   "source": [
    "df.duplicated()"
   ]
  },
  {
   "cell_type": "markdown",
   "id": "77e89d9c",
   "metadata": {},
   "source": [
    "✅ 2. Detecting Duplicates"
   ]
  },
  {
   "cell_type": "code",
   "execution_count": 19,
   "id": "7b4d59ec",
   "metadata": {},
   "outputs": [
    {
     "name": "stdout",
     "output_type": "stream",
     "text": [
      "Number of duplicate rows 0\n"
     ]
    }
   ],
   "source": [
    "duplicate_rows = df[df.duplicated()]\n",
    "#print(f\"Number of duplicate rows: {duplicate_rows.shape[0]}\")\n",
    "print(\"Number of duplicate rows\",duplicate_rows.shape[0])"
   ]
  },
  {
   "cell_type": "markdown",
   "id": "b19f0b08",
   "metadata": {},
   "source": [
    "✅ 3. Correlation Analysis"
   ]
  },
  {
   "cell_type": "code",
   "execution_count": 22,
   "id": "e6fda38a",
   "metadata": {},
   "outputs": [
    {
     "data": {
      "text/html": [
       "<div>\n",
       "<style scoped>\n",
       "    .dataframe tbody tr th:only-of-type {\n",
       "        vertical-align: middle;\n",
       "    }\n",
       "\n",
       "    .dataframe tbody tr th {\n",
       "        vertical-align: top;\n",
       "    }\n",
       "\n",
       "    .dataframe thead th {\n",
       "        text-align: right;\n",
       "    }\n",
       "</style>\n",
       "<table border=\"1\" class=\"dataframe\">\n",
       "  <thead>\n",
       "    <tr style=\"text-align: right;\">\n",
       "      <th></th>\n",
       "      <th>PassengerId</th>\n",
       "      <th>Survived</th>\n",
       "      <th>Pclass</th>\n",
       "      <th>Age</th>\n",
       "      <th>SibSp</th>\n",
       "      <th>Parch</th>\n",
       "      <th>Fare</th>\n",
       "    </tr>\n",
       "  </thead>\n",
       "  <tbody>\n",
       "    <tr>\n",
       "      <th>PassengerId</th>\n",
       "      <td>1.000000</td>\n",
       "      <td>-0.005007</td>\n",
       "      <td>-0.035144</td>\n",
       "      <td>0.036847</td>\n",
       "      <td>-0.057527</td>\n",
       "      <td>-0.001652</td>\n",
       "      <td>0.012658</td>\n",
       "    </tr>\n",
       "    <tr>\n",
       "      <th>Survived</th>\n",
       "      <td>-0.005007</td>\n",
       "      <td>1.000000</td>\n",
       "      <td>-0.338481</td>\n",
       "      <td>-0.077221</td>\n",
       "      <td>-0.035322</td>\n",
       "      <td>0.081629</td>\n",
       "      <td>0.257307</td>\n",
       "    </tr>\n",
       "    <tr>\n",
       "      <th>Pclass</th>\n",
       "      <td>-0.035144</td>\n",
       "      <td>-0.338481</td>\n",
       "      <td>1.000000</td>\n",
       "      <td>-0.369226</td>\n",
       "      <td>0.083081</td>\n",
       "      <td>0.018443</td>\n",
       "      <td>-0.549500</td>\n",
       "    </tr>\n",
       "    <tr>\n",
       "      <th>Age</th>\n",
       "      <td>0.036847</td>\n",
       "      <td>-0.077221</td>\n",
       "      <td>-0.369226</td>\n",
       "      <td>1.000000</td>\n",
       "      <td>-0.308247</td>\n",
       "      <td>-0.189119</td>\n",
       "      <td>0.096067</td>\n",
       "    </tr>\n",
       "    <tr>\n",
       "      <th>SibSp</th>\n",
       "      <td>-0.057527</td>\n",
       "      <td>-0.035322</td>\n",
       "      <td>0.083081</td>\n",
       "      <td>-0.308247</td>\n",
       "      <td>1.000000</td>\n",
       "      <td>0.414838</td>\n",
       "      <td>0.159651</td>\n",
       "    </tr>\n",
       "    <tr>\n",
       "      <th>Parch</th>\n",
       "      <td>-0.001652</td>\n",
       "      <td>0.081629</td>\n",
       "      <td>0.018443</td>\n",
       "      <td>-0.189119</td>\n",
       "      <td>0.414838</td>\n",
       "      <td>1.000000</td>\n",
       "      <td>0.216225</td>\n",
       "    </tr>\n",
       "    <tr>\n",
       "      <th>Fare</th>\n",
       "      <td>0.012658</td>\n",
       "      <td>0.257307</td>\n",
       "      <td>-0.549500</td>\n",
       "      <td>0.096067</td>\n",
       "      <td>0.159651</td>\n",
       "      <td>0.216225</td>\n",
       "      <td>1.000000</td>\n",
       "    </tr>\n",
       "  </tbody>\n",
       "</table>\n",
       "</div>"
      ],
      "text/plain": [
       "             PassengerId  Survived    Pclass       Age     SibSp     Parch  \\\n",
       "PassengerId     1.000000 -0.005007 -0.035144  0.036847 -0.057527 -0.001652   \n",
       "Survived       -0.005007  1.000000 -0.338481 -0.077221 -0.035322  0.081629   \n",
       "Pclass         -0.035144 -0.338481  1.000000 -0.369226  0.083081  0.018443   \n",
       "Age             0.036847 -0.077221 -0.369226  1.000000 -0.308247 -0.189119   \n",
       "SibSp          -0.057527 -0.035322  0.083081 -0.308247  1.000000  0.414838   \n",
       "Parch          -0.001652  0.081629  0.018443 -0.189119  0.414838  1.000000   \n",
       "Fare            0.012658  0.257307 -0.549500  0.096067  0.159651  0.216225   \n",
       "\n",
       "                 Fare  \n",
       "PassengerId  0.012658  \n",
       "Survived     0.257307  \n",
       "Pclass      -0.549500  \n",
       "Age          0.096067  \n",
       "SibSp        0.159651  \n",
       "Parch        0.216225  \n",
       "Fare         1.000000  "
      ]
     },
     "execution_count": 22,
     "metadata": {},
     "output_type": "execute_result"
    }
   ],
   "source": [
    "df.corr(numeric_only=True)"
   ]
  },
  {
   "cell_type": "code",
   "execution_count": 23,
   "id": "5dc10ce8",
   "metadata": {},
   "outputs": [
    {
     "data": {
      "image/png": "[encoded data removed]",
      "text/plain": [
       "<Figure size 1000x600 with 2 Axes>"
      ]
     },
     "metadata": {},
     "output_type": "display_data"
    }
   ],
   "source": [
    "import seaborn as sns\n",
    "\n",
    "corr = df.corr(numeric_only=True)\n",
    "plt.figure(figsize=(10, 6))\n",
    "sns.heatmap(corr, annot=True, cmap='coolwarm', fmt='.2f')\n",
    "plt.title(\"Correlation Matrix\")\n",
    "plt.show()\n"
   ]
  },
  {
   "cell_type": "markdown",
   "id": "82de2215",
   "metadata": {},
   "source": [
    "✅ 4. Visualize Missing Values"
   ]
  },
  {
   "cell_type": "code",
   "execution_count": 4,
   "id": "3db169e1",
   "metadata": {},
   "outputs": [
    {
     "data": {
      "text/plain": [
       "<Axes: >"
      ]
     },
     "execution_count": 4,
     "metadata": {},
     "output_type": "execute_result"
    },
    {
     "data": {
      "image/png": "[encoded data removed]",
      "text/plain": [
       "<Figure size 2500x1000 with 2 Axes>"
      ]
     },
     "metadata": {},
     "output_type": "display_data"
    }
   ],
   "source": [
    "msno.matrix(df)"
   ]
  },
  {
   "cell_type": "markdown",
   "id": "bd9fe1c9",
   "metadata": {},
   "source": [
    "✅ 5. Automated Profiling Report"
   ]
  },
  {
   "cell_type": "code",
   "execution_count": 24,
   "id": "0a40728f",
   "metadata": {},
   "outputs": [
    {
     "name": "stderr",
     "output_type": "stream",
     "text": [
      "C:\\Users\\nithyalakshmim\\AppData\\Local\\anaconda3\\Lib\\site-packages\\ydata_profiling\\profile_report.py:363: UserWarning: Try running command: 'pip install --upgrade Pillow' to avoid ValueError\n",
      "  warnings.warn(\n"
     ]
    },
    {
     "data": {
      "application/vnd.jupyter.widget-view+json": {
       "model_id": "884db38691884c84a9331af3a344f24f",
       "version_major": 2,
       "version_minor": 0
      },
      "text/plain": [
       "Summarize dataset:   0%|          | 0/5 [00:00<?, ?it/s]"
      ]
     },
     "metadata": {},
     "output_type": "display_data"
    },
    {
     "data": {
      "application/vnd.jupyter.widget-view+json": {
       "model_id": "a9452075f59c4ae3b0156d0ef453e2ec",
       "version_major": 2,
       "version_minor": 0
      },
      "text/plain": [
       "Generate report structure:   0%|          | 0/1 [00:00<?, ?it/s]"
      ]
     },
     "metadata": {},
     "output_type": "display_data"
    },
    {
     "data": {
      "application/vnd.jupyter.widget-view+json": {
       "model_id": "b12adddb9a474b3fae8a5d07aa45b8f4",
       "version_major": 2,
       "version_minor": 0
      },
      "text/plain": [
       "Render HTML:   0%|          | 0/1 [00:00<?, ?it/s]"
      ]
     },
     "metadata": {},
     "output_type": "display_data"
    },
    {
     "data": {
      "application/vnd.jupyter.widget-view+json": {
       "model_id": "454e2310bddd4104964ebadb55cbb802",
       "version_major": 2,
       "version_minor": 0
      },
      "text/plain": [
       "Export report to file:   0%|          | 0/1 [00:00<?, ?it/s]"
      ]
     },
     "metadata": {},
     "output_type": "display_data"
    }
   ],
   "source": [
    "profile = ProfileReport(df, title=\"Titanic Data Profile Report\", explorative=True)\n",
    "profile.to_file(\"titanic_profile.html\")\n"
   ]
  },
  {
   "cell_type": "code",
   "execution_count": 25,
   "id": "fef40d3d",
   "metadata": {},
   "outputs": [
    {
     "data": {
      "text/plain": [
       "<Axes: >"
      ]
     },
     "execution_count": 25,
     "metadata": {},
     "output_type": "execute_result"
    },
    {
     "data": {
      "image/png": "[encoded data removed]",
      "text/plain": [
       "<Figure size 640x480 with 1 Axes>"
      ]
     },
     "metadata": {},
     "output_type": "display_data"
    }
   ],
   "source": [
    "sns.boxplot(df) # identify outliers"
   ]
  },
  {
   "cell_type": "code",
   "execution_count": 26,
   "id": "2f8e438a",
   "metadata": {},
   "outputs": [
    {
     "data": {
      "text/plain": [
       "<Axes: >"
      ]
     },
     "execution_count": 26,
     "metadata": {},
     "output_type": "execute_result"
    },
    {
     "data": {
      "image/png": "[encoded data removed]",
      "text/plain": [
       "<Figure size 640x480 with 1 Axes>"
      ]
     },
     "metadata": {},
     "output_type": "display_data"
    }
   ],
   "source": [
    "sns.boxplot(data=customer)"
   ]
  },
  {
   "cell_type": "markdown",
   "id": "b1c99b7d",
   "metadata": {},
   "source": [
    "#### Hands = on"
   ]
  },
  {
   "cell_type": "code",
   "execution_count": 30,
   "id": "d35036b5",
   "metadata": {},
   "outputs": [],
   "source": [
    "import pandas as pd\n",
    "# Load CSV\n",
    "customer = pd.read_csv('Customer_data.csv')"
   ]
  },
  {
   "cell_type": "code",
   "execution_count": 31,
   "id": "fb866289",
   "metadata": {
    "collapsed": true
   },
   "outputs": [
    {
     "name": "stdout",
     "output_type": "stream",
     "text": [
      "Missing Values:\n",
      " CustomerID            0\n",
      "Name                 34\n",
      "Email                 0\n",
      "SignupDate           81\n",
      "Country             422\n",
      "Phone               137\n",
      "Age                  51\n",
      "Rowkey                0\n",
      "Count_duplicates      0\n",
      "dtype: int64\n"
     ]
    }
   ],
   "source": [
    "# Check for missing values\n",
    "print(\"Missing Values:\\n\", customer.isnull().sum())"
   ]
  },
  {
   "cell_type": "code",
   "execution_count": 32,
   "id": "8109479b",
   "metadata": {},
   "outputs": [
    {
     "name": "stdout",
     "output_type": "stream",
     "text": [
      "\n",
      "Duplicate Rows:\n",
      " Empty DataFrame\n",
      "Columns: [CustomerID, Name, Email, SignupDate, Country, Phone, Age, Rowkey, Count_duplicates]\n",
      "Index: []\n"
     ]
    }
   ],
   "source": [
    "# Detect duplicates\n",
    "print(\"\\nDuplicate Rows:\\n\", customer[customer.duplicated()])"
   ]
  },
  {
   "cell_type": "code",
   "execution_count": 33,
   "id": "ae599668",
   "metadata": {},
   "outputs": [],
   "source": [
    "# Standardize country names\n",
    "customer['Country'] = customer['Country'].str.upper().str.replace('.', '',regex=False)"
   ]
  },
  {
   "cell_type": "code",
   "execution_count": 34,
   "id": "7aa04210",
   "metadata": {},
   "outputs": [],
   "source": [
    "# Check inconsistent phone formats (non-numeric check)\n",
    "customer['Phone_Numeric'] = customer['Phone'].str.replace(r'\\D', '', regex=True)\n",
    "customer['Phone_Valid'] = customer['Phone_Numeric'].str.len().between(10, 15)"
   ]
  },
  {
   "cell_type": "code",
   "execution_count": 35,
   "id": "398bc2bf",
   "metadata": {},
   "outputs": [],
   "source": [
    "# Check invalid ages\n",
    "customer['Age_Valid'] = customer['Age'].between(0, 120)"
   ]
  },
  {
   "cell_type": "code",
   "execution_count": 36,
   "id": "9100548c",
   "metadata": {},
   "outputs": [],
   "source": [
    "# Invalid signupdate format check\n",
    "customer['SignupDate_Valid'] = pd.to_datetime(customer['SignupDate'], errors='coerce')"
   ]
  },
  {
   "cell_type": "code",
   "execution_count": 37,
   "id": "2c50e6ec",
   "metadata": {},
   "outputs": [
    {
     "name": "stdout",
     "output_type": "stream",
     "text": [
      "\n",
      "Invalid Phone Numbers:\n",
      "       CustomerID               Name                           Email  \\\n",
      "2           1003       Kevin Porter          nicholas89@hotmail.com   \n",
      "6           1007         Karen Hess   jacqueline97@kline-mosley.com   \n",
      "11          1012      Rebecca Irwin  urobinson@vazquez-gonzalez.biz   \n",
      "21          1022       Lisa Shelton                 rcruz@gmail.com   \n",
      "22          1023        Lynn Warren            chernandez@yahoo.com   \n",
      "...          ...                ...                             ...   \n",
      "2963        3964       Allison Soto         sheaelizabeth@yahoo.com   \n",
      "2969        3970         Rebecca Le               holly72@lopez.com   \n",
      "2976        3977  Mr. Marcus Clarke      william07@rivera-sharp.com   \n",
      "2981        3982        Linda Welch         danielle87@figueroa.org   \n",
      "2982        3983      Anthony Curry              cory85@kaufman.com   \n",
      "\n",
      "      SignupDate Country                   Phone   Age  \\\n",
      "2     02-08-2024     USA  001-132-862-1029x86851  41.0   \n",
      "6     31-03-2024      UK   +1-628-222-3817x92663  18.0   \n",
      "11    15-11-2024     USA                   -2914  18.0   \n",
      "21           NaN      UK  001-121-496-7216x15159  65.0   \n",
      "22    03-01-2025     NaN                   -8473  64.0   \n",
      "...          ...     ...                     ...   ...   \n",
      "2963  05-06-2023     NaN   +1-934-467-7870x46326  19.0   \n",
      "2969  22-06-2024     NaN   +1-155-659-0436x88650  57.0   \n",
      "2976  01-12-2024     CAN                     NaN  25.0   \n",
      "2981  21-09-2023     NaN    001-499-594-3708x086  68.0   \n",
      "2982  03-07-2024     NaN  001-354-504-4765x46111  37.0   \n",
      "\n",
      "                                                 Rowkey  Count_duplicates  \\\n",
      "2     1003Kevin Porternicholas89@hotmail.com45506U.S...                 1   \n",
      "6     1007Karen Hessjacqueline97@kline-mosley.com453...                 1   \n",
      "11    1012Rebecca Irwinurobinson@vazquez-gonzalez.bi...                 1   \n",
      "21    1022Lisa Sheltonrcruz@gmail.comUK001-121-496-7...                 1   \n",
      "22      1023Lynn Warrenchernandez@yahoo.com45660-847364                 1   \n",
      "...                                                 ...               ...   \n",
      "2963  3964Allison Sotosheaelizabeth@yahoo.com45082+1...                 1   \n",
      "2969  3970Rebecca Leholly72@lopez.com45465+1-155-659...                 1   \n",
      "2976  3977Mr. Marcus Clarkewilliam07@rivera-sharp.co...                 1   \n",
      "2981  3982Linda Welchdanielle87@figueroa.org45190001...                 1   \n",
      "2982  3983Anthony Currycory85@kaufman.com45476001-35...                 1   \n",
      "\n",
      "           Phone_Numeric  Phone_Valid  Age_Valid SignupDate_Valid  \n",
      "2     001132862102986851        False       True       2024-02-08  \n",
      "6       1628222381792663        False       True              NaT  \n",
      "11                  2914        False       True              NaT  \n",
      "21    001121496721615159        False       True              NaT  \n",
      "22                  8473        False       True       2025-03-01  \n",
      "...                  ...          ...        ...              ...  \n",
      "2963    1934467787046326        False       True       2023-05-06  \n",
      "2969    1155659043688650        False       True              NaT  \n",
      "2976                 NaN        False       True       2024-01-12  \n",
      "2981    0014995943708086        False       True              NaT  \n",
      "2982  001354504476546111        False       True       2024-03-07  \n",
      "\n",
      "[743 rows x 13 columns]\n",
      "\n",
      "Invalid Age Entries:\n",
      "       CustomerID                 Name                               Email  \\\n",
      "74          1075          Holly White                 reyesamy@acosta.com   \n",
      "144         1145          Amy Terrell                   robert25@duke.com   \n",
      "159         1160      Deborah Mendoza                     fkent@gmail.com   \n",
      "293         1294        Steven Mendez       michellelee@howell-brooks.com   \n",
      "305         1306         Tracy Nguyen                   holly40@yahoo.com   \n",
      "330         1331     Christian Morris                garmstrong@gmail.com   \n",
      "462         1463            Chris Day                 brandon34@gmail.com   \n",
      "484         1485       Theresa Parker                   kprince@gmail.com   \n",
      "493         1494         David Cuevas                 dunnallen@gmail.com   \n",
      "559         1560        Joshua Benson           ybass@morris-rodgers.info   \n",
      "568         1569      Jason Armstrong                   gfields@gmail.com   \n",
      "609         1610          Corey Arias                  albert46@brown.com   \n",
      "647         1648          Eric Larson             cantukarina@hotmail.com   \n",
      "745         1746     Michael Williams         mclaughlinbrandon@gmail.com   \n",
      "755         1756      Dr. Joanna Chen            mercadobernard@yahoo.com   \n",
      "872         1873    Christopher Foley               fmarshall@hotmail.com   \n",
      "911         1912      Robert Martinez              jameskelly@hotmail.com   \n",
      "950         1951  Dr. Rachel Lawrence       randy52@thomas-montgomery.com   \n",
      "983         1984       Kenneth Benson          kelseymaldonado@parker.com   \n",
      "989         1990       Diana Guerrero               michaeltran@braun.biz   \n",
      "1027        2028          Blake Perry                   angel33@gmail.com   \n",
      "1048        2049          Megan Smith                    tracy38@rios.com   \n",
      "1118        2119         Joshua Gross                 danny16@wallace.com   \n",
      "1129        2130      Christine Moyer                    john64@gmail.com   \n",
      "1200        2201       Jeffrey Sparks                moranjason@gmail.com   \n",
      "1234        2235     Kimberly Pearson              victoria71@hotmail.com   \n",
      "1248        2249          Taylor Bush                    rsilva@yahoo.com   \n",
      "1306        2307        Lindsey Moore           jessemacdonald@larson.com   \n",
      "1448        2449      Bradley Russell            hansenmichelle@gmail.com   \n",
      "1533        2534         Rodney Evans             briancollins@curtis.com   \n",
      "1610        2611        Heather Davis                 lwilliams@yahoo.com   \n",
      "1813        2814        Thomas Holmes                  robert81@mccoy.com   \n",
      "1814        2815        Chris Barrett             jeffreyjordan@gmail.com   \n",
      "1831        2832          Jesse Davis                 alvin14@carroll.com   \n",
      "1848        2849       Brian Williams               andrewmoran@gmail.com   \n",
      "1994        2995        David Jackson            michael52@rodriguez.info   \n",
      "2158        3159     Charles Williams                 kenneth56@yahoo.com   \n",
      "2195        3196        Jamie Jackson  mitchelljoshua@johnson-sawyer.info   \n",
      "2234        3235      Hannah Mitchell             patrickortiz@fields.com   \n",
      "2235        3236          Noah Mendez                kenneth90@garcia.net   \n",
      "2362        3363        Krystal Bryan                   bobby55@gmail.com   \n",
      "2370        3371         Dillon James                  josecruz@gmail.com   \n",
      "2436        3437        Brandon Jones              russellemily@yahoo.com   \n",
      "2510        3511    Pamela Harrington            lauriejensen@hotmail.com   \n",
      "2513        3514        David Jackson   andersonandrew@hickman-murray.com   \n",
      "2532        3533        Vincent Olson                ymueller@hotmail.com   \n",
      "2675        3676           Brian Hunt                btrujillo@thomas.com   \n",
      "2802        3803         Charles Ross                 uturner@russell.com   \n",
      "2893        3894         Alicia Young                 valerie93@jones.net   \n",
      "2962        3963          Lisa Mathis                  hallmary@yahoo.com   \n",
      "2986        3987         Scott Ibarra  bennettkathleen@sampson-downs.info   \n",
      "\n",
      "      SignupDate Country                   Phone  Age  \\\n",
      "74    26-02-2024     NaN  001-590-770-2907x51625  NaN   \n",
      "144   09-07-2024     CAN           (997)509-4738  NaN   \n",
      "159   09-03-2025      UK            337-825-7944  NaN   \n",
      "293   14-07-2024      UK              4827686695  NaN   \n",
      "305   02-08-2023     USA            777-544-2834  NaN   \n",
      "330   14-07-2024     USA            219-826-2824  NaN   \n",
      "462   15-01-2024     USA     (931)482-8650x84847  NaN   \n",
      "484   03-01-2024     USA              3689591500  NaN   \n",
      "493   16-03-2025     NaN                   -3834  NaN   \n",
      "559   03-07-2024     AUS       044.743.7206x4985  NaN   \n",
      "568   02-06-2024     USA            296-584-1981  NaN   \n",
      "609   06-08-2023     USA  001-124-309-5947x66091  NaN   \n",
      "647   06-03-2025     AUS   +1-783-124-5470x15932  NaN   \n",
      "745   10-09-2024     USA        347-573-6113x738  NaN   \n",
      "755   25-08-2023     AUS     +1-024-016-2329x188  NaN   \n",
      "872   19-04-2024     AUS   +1-556-780-6436x56985  NaN   \n",
      "911   10-10-2024     USA        304.649.6996x012  NaN   \n",
      "950   02-12-2023     USA        001-152-516-4400  NaN   \n",
      "983   27-06-2023     CAN        497-668-0255x658  NaN   \n",
      "989   05-11-2024     USA              8077824968  NaN   \n",
      "1027  09-07-2024     USA    001-773-898-7607x104  NaN   \n",
      "1048  22-08-2024     NaN            917-096-0354  NaN   \n",
      "1118  20-05-2024     CAN            999.383.3708  NaN   \n",
      "1129  11-07-2024     USA   +1-802-930-8284x23609  NaN   \n",
      "1200  02-12-2024     USA                   -3479  NaN   \n",
      "1234  28-12-2023     USA     +1-011-892-0397x407  NaN   \n",
      "1248  29-07-2024     CAN           (759)508-8928  NaN   \n",
      "1306         NaN     CAN   +1-282-222-0228x07610  NaN   \n",
      "1448  30-03-2025      UK              9361670735  NaN   \n",
      "1533  11-07-2023     USA           (848)681-0124  NaN   \n",
      "1610  23-09-2024      UK   +1-198-266-6971x49161  NaN   \n",
      "1813  18-09-2023     USA              3297311522  NaN   \n",
      "1814  28-09-2024      UK            055-663-3853  NaN   \n",
      "1831  15-04-2024     USA              6557350104  NaN   \n",
      "1848  17-05-2023      UK     (017)318-6567x00422  NaN   \n",
      "1994  13-06-2024     AUS              8954979518  NaN   \n",
      "2158  18-10-2024     USA                  -10326  NaN   \n",
      "2195  01-05-2025     CAN       764.073.5531x2412  NaN   \n",
      "2234  12-11-2024      UK              3101648850  NaN   \n",
      "2235  28-12-2023     NaN           (564)892-2826  NaN   \n",
      "2362  01-01-2024     CAN        001-600-119-4090  NaN   \n",
      "2370         NaN      UK                     NaN  NaN   \n",
      "2436  09-09-2023     CAN    001-389-527-6445x309  NaN   \n",
      "2510  24-07-2024     USA                     NaN  NaN   \n",
      "2513  24-12-2024     AUS    001-184-069-8482x208  NaN   \n",
      "2532  25-09-2023     USA        097-613-3342x723  NaN   \n",
      "2675  19-05-2023     NaN            897-608-4306  NaN   \n",
      "2802  19-04-2025     USA     (270)317-9368x91663  NaN   \n",
      "2893  17-07-2023      UK              7557263202  NaN   \n",
      "2962  25-02-2024     CAN      (207)454-3922x9394  NaN   \n",
      "2986  10-06-2023     CAN      (478)695-0389x3666  NaN   \n",
      "\n",
      "                                                 Rowkey  Count_duplicates  \\\n",
      "74    1075Holly Whitereyesamy@acosta.com45348001-590...                 1   \n",
      "144   1145Amy Terrellrobert25@duke.com45482CAN(997)5...                 1   \n",
      "159   1160Deborah Mendozafkent@gmail.com45725UK337-8...                 1   \n",
      "293   1294Steven Mendezmichellelee@howell-brooks.com...                 1   \n",
      "305   1306Tracy Nguyenholly40@yahoo.com45140usa777-5...                 1   \n",
      "330   1331Christian Morrisgarmstrong@gmail.com45487U...                 1   \n",
      "462   1463Chris Daybrandon34@gmail.com45306U.S.A(931...                 1   \n",
      "484   1485Theresa Parkerkprince@gmail.com45294usa368...                 1   \n",
      "493       1494David Cuevasdunnallen@gmail.com45732-3834                 1   \n",
      "559   1560Joshua Bensonybass@morris-rodgers.info4547...                 1   \n",
      "568   1569Jason Armstronggfields@gmail.com45445USA29...                 1   \n",
      "609   1610Corey Ariasalbert46@brown.com45144usa001-1...                 1   \n",
      "647   1648Eric Larsoncantukarina@hotmail.com45722AUS...                 1   \n",
      "745   1746Michael Williamsmclaughlinbrandon@gmail.co...                 1   \n",
      "755   1756Dr. Joanna Chenmercadobernard@yahoo.com451...                 1   \n",
      "872   1873Christopher Foleyfmarshall@hotmail.com4540...                 1   \n",
      "911   1912Robert Martinezjameskelly@hotmail.com45575...                 1   \n",
      "950   1951Dr. Rachel Lawrencerandy52@thomas-montgome...                 1   \n",
      "983   1984Kenneth Bensonkelseymaldonado@parker.com45...                 1   \n",
      "989   1990Diana Guerreromichaeltran@braun.biz45601us...                 1   \n",
      "1027  2028Blake Perryangel33@gmail.com45482USA001-77...                 1   \n",
      "1048   2049Megan Smithtracy38@rios.com45526917-096-0354                 1   \n",
      "1118  2119Joshua Grossdanny16@wallace.com45432CAN999...                 1   \n",
      "1129  2130Christine Moyerjohn64@gmail.com45484usa+1-...                 1   \n",
      "1200  2201Jeffrey Sparksmoranjason@gmail.com45628usa...                 1   \n",
      "1234  2235Kimberly Pearsonvictoria71@hotmail.com4528...                 1   \n",
      "1248  2249Taylor Bushrsilva@yahoo.com45502CAN(759)50...                 1   \n",
      "1306  2307Lindsey Moorejessemacdonald@larson.comCAN+...                 1   \n",
      "1448  2449Bradley Russellhansenmichelle@gmail.com457...                 1   \n",
      "1533  2534Rodney Evansbriancollins@curtis.com45118us...                 1   \n",
      "1610  2611Heather Davislwilliams@yahoo.com45558UK+1-...                 1   \n",
      "1813  2814Thomas Holmesrobert81@mccoy.com45187USA329...                 1   \n",
      "1814  2815Chris Barrettjeffreyjordan@gmail.com45563U...                 1   \n",
      "1831  2832Jesse Davisalvin14@carroll.com45397usa6557...                 1   \n",
      "1848  2849Brian Williamsandrewmoran@gmail.com45063UK...                 1   \n",
      "1994  2995David Jacksonmichael52@rodriguez.info45456...                 1   \n",
      "2158  3159Charles Williamskenneth56@yahoo.com45583us...                 1   \n",
      "2195  3196Jamie Jacksonmitchelljoshua@johnson-sawyer...                 1   \n",
      "2234  3235Hannah Mitchellpatrickortiz@fields.com4560...                 1   \n",
      "2235  3236Noah Mendezkenneth90@garcia.net45288(564)8...                 1   \n",
      "2362  3363Krystal Bryanbobby55@gmail.com45292CAN001-...                 1   \n",
      "2370               3371Dillon Jamesjosecruz@gmail.comUK                 1   \n",
      "2436  3437Brandon Jonesrussellemily@yahoo.com45178CA...                 1   \n",
      "2510  3511Pamela Harringtonlauriejensen@hotmail.com4...                 1   \n",
      "2513  3514David Jacksonandersonandrew@hickman-murray...                 1   \n",
      "2532  3533Vincent Olsonymueller@hotmail.com45194usa0...                 1   \n",
      "2675  3676Brian Huntbtrujillo@thomas.com45065897-608...                 1   \n",
      "2802  3803Charles Rossuturner@russell.com45766usa(27...                 1   \n",
      "2893  3894Alicia Youngvalerie93@jones.net45124UK7557...                 1   \n",
      "2962  3963Lisa Mathishallmary@yahoo.com45347CAN(207)...                 1   \n",
      "2986  3987Scott Ibarrabennettkathleen@sampson-downs....                 1   \n",
      "\n",
      "           Phone_Numeric  Phone_Valid  Age_Valid SignupDate_Valid  \n",
      "74    001590770290751625        False      False              NaT  \n",
      "144           9975094738         True      False       2024-09-07  \n",
      "159           3378257944         True      False       2025-09-03  \n",
      "293           4827686695         True      False              NaT  \n",
      "305           7775442834         True      False       2023-02-08  \n",
      "330           2198262824         True      False              NaT  \n",
      "462      931482865084847         True      False              NaT  \n",
      "484           3689591500         True      False       2024-03-01  \n",
      "493                 3834        False      False              NaT  \n",
      "559       04474372064985         True      False       2024-03-07  \n",
      "568           2965841981         True      False       2024-02-06  \n",
      "609   001124309594766091        False      False       2023-06-08  \n",
      "647     1783124547015932        False      False       2025-06-03  \n",
      "745        3475736113738         True      False       2024-10-09  \n",
      "755       10240162329188         True      False              NaT  \n",
      "872     1556780643656985        False      False              NaT  \n",
      "911        3046496996012         True      False       2024-10-10  \n",
      "950        0011525164400         True      False       2023-02-12  \n",
      "983        4976680255658         True      False              NaT  \n",
      "989           8077824968         True      False       2024-05-11  \n",
      "1027    0017738987607104        False      False       2024-09-07  \n",
      "1048          9170960354         True      False              NaT  \n",
      "1118          9993833708         True      False              NaT  \n",
      "1129    1802930828423609        False      False       2024-11-07  \n",
      "1200                3479        False      False       2024-02-12  \n",
      "1234      10118920397407         True      False              NaT  \n",
      "1248          7595088928         True      False              NaT  \n",
      "1306    1282222022807610        False      False              NaT  \n",
      "1448          9361670735         True      False              NaT  \n",
      "1533          8486810124         True      False       2023-11-07  \n",
      "1610    1198266697149161        False      False              NaT  \n",
      "1813          3297311522         True      False              NaT  \n",
      "1814          0556633853         True      False              NaT  \n",
      "1831          6557350104         True      False              NaT  \n",
      "1848     017318656700422         True      False              NaT  \n",
      "1994          8954979518         True      False              NaT  \n",
      "2158               10326        False      False              NaT  \n",
      "2195      76407355312412         True      False       2025-01-05  \n",
      "2234          3101648850         True      False       2024-12-11  \n",
      "2235          5648922826         True      False              NaT  \n",
      "2362       0016001194090         True      False       2024-01-01  \n",
      "2370                 NaN        False      False              NaT  \n",
      "2436    0013895276445309        False      False       2023-09-09  \n",
      "2510                 NaN        False      False              NaT  \n",
      "2513    0011840698482208        False      False              NaT  \n",
      "2532       0976133342723         True      False              NaT  \n",
      "2675          8976084306         True      False              NaT  \n",
      "2802     270317936891663         True      False              NaT  \n",
      "2893          7557263202         True      False              NaT  \n",
      "2962      20745439229394         True      False              NaT  \n",
      "2986      47869503893666         True      False       2023-10-06  \n"
     ]
    },
    {
     "ename": "TypeError",
     "evalue": "bad operand type for unary ~: 'DatetimeArray'",
     "output_type": "error",
     "traceback": [
      "\u001b[1;31m---------------------------------------------------------------------------\u001b[0m",
      "\u001b[1;31mTypeError\u001b[0m                                 Traceback (most recent call last)",
      "Cell \u001b[1;32mIn[37], line 4\u001b[0m\n\u001b[0;32m      2\u001b[0m \u001b[38;5;28mprint\u001b[39m(\u001b[38;5;124m\"\u001b[39m\u001b[38;5;130;01m\\n\u001b[39;00m\u001b[38;5;124mInvalid Phone Numbers:\u001b[39m\u001b[38;5;130;01m\\n\u001b[39;00m\u001b[38;5;124m\"\u001b[39m, customer[\u001b[38;5;241m~\u001b[39mcustomer[\u001b[38;5;124m'\u001b[39m\u001b[38;5;124mPhone_Valid\u001b[39m\u001b[38;5;124m'\u001b[39m]])\n\u001b[0;32m      3\u001b[0m \u001b[38;5;28mprint\u001b[39m(\u001b[38;5;124m\"\u001b[39m\u001b[38;5;130;01m\\n\u001b[39;00m\u001b[38;5;124mInvalid Age Entries:\u001b[39m\u001b[38;5;130;01m\\n\u001b[39;00m\u001b[38;5;124m\"\u001b[39m, customer[\u001b[38;5;241m~\u001b[39mcustomer[\u001b[38;5;124m'\u001b[39m\u001b[38;5;124mAge_Valid\u001b[39m\u001b[38;5;124m'\u001b[39m]])\n\u001b[1;32m----> 4\u001b[0m \u001b[38;5;28mprint\u001b[39m(\u001b[38;5;124m\"\u001b[39m\u001b[38;5;130;01m\\n\u001b[39;00m\u001b[38;5;124mInvalid Dates:\u001b[39m\u001b[38;5;130;01m\\n\u001b[39;00m\u001b[38;5;124m\"\u001b[39m, customer[\u001b[38;5;241m~\u001b[39mcustomer[\u001b[38;5;124m'\u001b[39m\u001b[38;5;124mSignupDate_Valid\u001b[39m\u001b[38;5;124m'\u001b[39m]])\n",
      "File \u001b[1;32m~\\AppData\\Local\\anaconda3\\Lib\\site-packages\\pandas\\core\\generic.py:1571\u001b[0m, in \u001b[0;36mNDFrame.__invert__\u001b[1;34m(self)\u001b[0m\n\u001b[0;32m   1567\u001b[0m \u001b[38;5;28;01mif\u001b[39;00m \u001b[38;5;129;01mnot\u001b[39;00m \u001b[38;5;28mself\u001b[39m\u001b[38;5;241m.\u001b[39msize:\n\u001b[0;32m   1568\u001b[0m     \u001b[38;5;66;03m# inv fails with 0 len\u001b[39;00m\n\u001b[0;32m   1569\u001b[0m     \u001b[38;5;28;01mreturn\u001b[39;00m \u001b[38;5;28mself\u001b[39m\u001b[38;5;241m.\u001b[39mcopy(deep\u001b[38;5;241m=\u001b[39m\u001b[38;5;28;01mFalse\u001b[39;00m)\n\u001b[1;32m-> 1571\u001b[0m new_data \u001b[38;5;241m=\u001b[39m \u001b[38;5;28mself\u001b[39m\u001b[38;5;241m.\u001b[39m_mgr\u001b[38;5;241m.\u001b[39mapply(operator\u001b[38;5;241m.\u001b[39minvert)\n\u001b[0;32m   1572\u001b[0m res \u001b[38;5;241m=\u001b[39m \u001b[38;5;28mself\u001b[39m\u001b[38;5;241m.\u001b[39m_constructor_from_mgr(new_data, axes\u001b[38;5;241m=\u001b[39mnew_data\u001b[38;5;241m.\u001b[39maxes)\n\u001b[0;32m   1573\u001b[0m \u001b[38;5;28;01mreturn\u001b[39;00m res\u001b[38;5;241m.\u001b[39m__finalize__(\u001b[38;5;28mself\u001b[39m, method\u001b[38;5;241m=\u001b[39m\u001b[38;5;124m\"\u001b[39m\u001b[38;5;124m__invert__\u001b[39m\u001b[38;5;124m\"\u001b[39m)\n",
      "File \u001b[1;32m~\\AppData\\Local\\anaconda3\\Lib\\site-packages\\pandas\\core\\internals\\managers.py:361\u001b[0m, in \u001b[0;36mBaseBlockManager.apply\u001b[1;34m(self, f, align_keys, **kwargs)\u001b[0m\n\u001b[0;32m    358\u001b[0m             kwargs[k] \u001b[38;5;241m=\u001b[39m obj[b\u001b[38;5;241m.\u001b[39mmgr_locs\u001b[38;5;241m.\u001b[39mindexer]\n\u001b[0;32m    360\u001b[0m \u001b[38;5;28;01mif\u001b[39;00m \u001b[38;5;28mcallable\u001b[39m(f):\n\u001b[1;32m--> 361\u001b[0m     applied \u001b[38;5;241m=\u001b[39m b\u001b[38;5;241m.\u001b[39mapply(f, \u001b[38;5;241m*\u001b[39m\u001b[38;5;241m*\u001b[39mkwargs)\n\u001b[0;32m    362\u001b[0m \u001b[38;5;28;01melse\u001b[39;00m:\n\u001b[0;32m    363\u001b[0m     applied \u001b[38;5;241m=\u001b[39m \u001b[38;5;28mgetattr\u001b[39m(b, f)(\u001b[38;5;241m*\u001b[39m\u001b[38;5;241m*\u001b[39mkwargs)\n",
      "File \u001b[1;32m~\\AppData\\Local\\anaconda3\\Lib\\site-packages\\pandas\\core\\internals\\blocks.py:393\u001b[0m, in \u001b[0;36mBlock.apply\u001b[1;34m(self, func, **kwargs)\u001b[0m\n\u001b[0;32m    387\u001b[0m \u001b[38;5;129m@final\u001b[39m\n\u001b[0;32m    388\u001b[0m \u001b[38;5;28;01mdef\u001b[39;00m \u001b[38;5;21mapply\u001b[39m(\u001b[38;5;28mself\u001b[39m, func, \u001b[38;5;241m*\u001b[39m\u001b[38;5;241m*\u001b[39mkwargs) \u001b[38;5;241m-\u001b[39m\u001b[38;5;241m>\u001b[39m \u001b[38;5;28mlist\u001b[39m[Block]:\n\u001b[0;32m    389\u001b[0m \u001b[38;5;250m    \u001b[39m\u001b[38;5;124;03m\"\"\"\u001b[39;00m\n\u001b[0;32m    390\u001b[0m \u001b[38;5;124;03m    apply the function to my values; return a block if we are not\u001b[39;00m\n\u001b[0;32m    391\u001b[0m \u001b[38;5;124;03m    one\u001b[39;00m\n\u001b[0;32m    392\u001b[0m \u001b[38;5;124;03m    \"\"\"\u001b[39;00m\n\u001b[1;32m--> 393\u001b[0m     result \u001b[38;5;241m=\u001b[39m func(\u001b[38;5;28mself\u001b[39m\u001b[38;5;241m.\u001b[39mvalues, \u001b[38;5;241m*\u001b[39m\u001b[38;5;241m*\u001b[39mkwargs)\n\u001b[0;32m    395\u001b[0m     result \u001b[38;5;241m=\u001b[39m maybe_coerce_values(result)\n\u001b[0;32m    396\u001b[0m     \u001b[38;5;28;01mreturn\u001b[39;00m \u001b[38;5;28mself\u001b[39m\u001b[38;5;241m.\u001b[39m_split_op_result(result)\n",
      "\u001b[1;31mTypeError\u001b[0m: bad operand type for unary ~: 'DatetimeArray'"
     ]
    }
   ],
   "source": [
    "# Print summary of issues\n",
    "print(\"\\nInvalid Phone Numbers:\\n\", customer[~customer['Phone_Valid']])\n",
    "print(\"\\nInvalid Age Entries:\\n\", customer[~customer['Age_Valid']])\n",
    "print(\"\\nInvalid Dates:\\n\", customer[~customer['SignupDate_Valid']])"
   ]
  },
  {
   "cell_type": "code",
   "execution_count": null,
   "id": "f4797df5",
   "metadata": {},
   "outputs": [],
   "source": []
  },
  {
   "cell_type": "code",
   "execution_count": null,
   "id": "6d0e2b51",
   "metadata": {},
   "outputs": [],
   "source": [
    "import pandas as pd\n",
    "\n",
    "# Load data\n",
    "df = pd.read_csv('Customer_data.csv')\n",
    "\n",
    "# Convert data types where possible\n",
    "df['SignupDate'] = pd.to_datetime(df['SignupDate'], errors='coerce')\n",
    "df['Age'] = pd.to_numeric(df['Age'], errors='coerce')\n",
    "\n",
    "# Summary statistics for numerical data\n",
    "print(\"Summary Statistics for Age:\")\n",
    "print(df['Age'].describe())\n",
    "\n",
    "# Summary statistics for SignupDate\n",
    "print(\"\\nSignupDate Range:\")\n",
    "print(df['SignupDate'].min(), \"to\", df['SignupDate'].max())\n",
    "\n",
    "# Country counts\n",
    "print(\"\\nCountry Distribution:\")\n",
    "print(df['Country'].value_counts())\n",
    "\n",
    "# Anomaly detection: Check for negative ages or ages above 120\n",
    "print(\"\\nAnomalies in Age:\")\n",
    "print(df[(df['Age'] < 0) | (df['Age'] > 120)])\n",
    "\n",
    "# Anomalies in SignupDate (missing or invalid dates)\n",
    "print(\"\\nAnomalies in SignupDate:\")\n",
    "print(df[df['SignupDate'].isnull()])\n",
    "\n",
    "# Check for duplicate CustomerID\n",
    "print(\"\\nDuplicate CustomerID entries:\")\n",
    "print(df[df.duplicated(['CustomerID'], keep=False)])\n",
    "\n",
    "# Detect unusual phone number patterns (non-digit characters count)\n",
    "df['phone_digits'] = df['Phone'].str.replace(r'\\D', '', regex=True).str.len()\n",
    "print(\"\\nPhone number digit count statistics:\")\n",
    "print(df['phone_digits'].describe())\n",
    "\n",
    "# Phones with too few or too many digits\n",
    "print(\"\\nAnomalies in Phone digits:\")\n",
    "print(df[(df['phone_digits'] < 10) | (df['phone_digits'] > 15)])\n"
   ]
  },
  {
   "cell_type": "code",
   "execution_count": null,
   "id": "ce5a8e42",
   "metadata": {},
   "outputs": [],
   "source": []
  },
  {
   "cell_type": "code",
   "execution_count": null,
   "id": "ab463e7f",
   "metadata": {},
   "outputs": [],
   "source": [
    "import pandas as pd\n",
    "\n",
    "# Load data\n",
    "df = pd.read_csv('Customer_data.csv')\n",
    "\n",
    "# Known countries (case insensitive)\n",
    "known_countries = ['USA', 'U.S.A', 'CAN', 'UK', 'AUS']\n",
    "\n",
    "# Validation rules\n",
    "df['Email_valid'] = df['Email'].str.contains('@', na=False)\n",
    "df['Country_valid'] = df['Country'].str.upper().isin([c.upper() for c in known_countries])\n",
    "df['Age_valid'] = df['Age'].between(18, 70)\n",
    "\n",
    "# Combine all validation flags\n",
    "df['Valid'] = df['Email_valid'] & df['Country_valid'] & df['Age_valid']\n",
    "\n",
    "print(\"Validation Results:\")\n",
    "print(df[['CustomerID', 'Email', 'Country', 'Age', 'Email_valid', 'Country_valid', 'Age_valid', 'Valid']])\n"
   ]
  }
 ],
 "metadata": {
  "kernelspec": {
   "display_name": "Python 3 (ipykernel)",
   "language": "python",
   "name": "python3"
  },
  "language_info": {
   "codemirror_mode": {
    "name": "ipython",
    "version": 3
   },
   "file_extension": ".py",
   "mimetype": "text/x-python",
   "name": "python",
   "nbconvert_exporter": "python",
   "pygments_lexer": "ipython3",
   "version": "3.11.5"
  }
 },
 "nbformat": 4,
 "nbformat_minor": 5
}
